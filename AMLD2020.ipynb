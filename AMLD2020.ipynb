{
 "cells": [
  {
   "cell_type": "markdown",
   "metadata": {
    "colab_type": "text",
    "id": "D8bah9DBB7Tc"
   },
   "source": [
    "# AMLD 2020: Transfer Learning for International Crisis Response"
   ]
  },
  {
   "cell_type": "code",
   "execution_count": null,
   "metadata": {
    "colab": {},
    "colab_type": "code",
    "id": "oTI2OwCOgi8E"
   },
   "outputs": [],
   "source": [
    "import os\n",
    "import pandas as pd"
   ]
  },
  {
   "cell_type": "code",
   "execution_count": null,
   "metadata": {
    "colab": {},
    "colab_type": "code",
    "id": "SoXxCqKGgi8J"
   },
   "outputs": [],
   "source": [
    "train = [pd.read_csv(\"org\" + str(i) + \"_dev.csv\") for i in range (1, 5)]"
   ]
  },
  {
   "cell_type": "code",
   "execution_count": null,
   "metadata": {
    "colab": {},
    "colab_type": "code",
    "id": "7L-0wwP7gi8M"
   },
   "outputs": [],
   "source": [
    "test = [pd.read_csv(\"org\" + str(i) + \"_test.csv\") for i in range(1, 5)]"
   ]
  },
  {
   "cell_type": "code",
   "execution_count": null,
   "metadata": {
    "colab": {},
    "colab_type": "code",
    "id": "QUMHlFwYgi8O"
   },
   "outputs": [],
   "source": [
    "for i in range(4):\n",
    "    train[i][\"labels\"] = pd.Series(map(lambda x: x.split(\";\"), train[i][\"labels\"]))"
   ]
  },
  {
   "cell_type": "code",
   "execution_count": null,
   "metadata": {
    "colab": {},
    "colab_type": "code",
    "id": "12agOirEe-5N"
   },
   "outputs": [],
   "source": [
    "map_labels = {\n",
    "    101: 10,\n",
    "    102: 6,\n",
    "    103: 3,\n",
    "    104: 4,\n",
    "    105: 10,\n",
    "    106: 5,\n",
    "    107: 7,\n",
    "    108: 10,\n",
    "    109: 9,\n",
    "    110: 10,\n",
    "    111: [8, 11],\n",
    "    112: 12\n",
    "}"
   ]
  },
  {
   "cell_type": "code",
   "execution_count": null,
   "metadata": {
    "colab": {},
    "colab_type": "code",
    "id": "KVXnAz_akU0C"
   },
   "outputs": [],
   "source": [
    "reversemap_labels = {\n",
    "    1: 104,\n",
    "    2: 108,\n",
    "    3: 103,\n",
    "    4: 104,\n",
    "    5: 106,\n",
    "    6: 102,\n",
    "    7: 107,\n",
    "    8: 111,\n",
    "    9: 109,\n",
    "    10: 110,\n",
    "    11: 111,\n",
    "    12: 112\n",
    "}"
   ]
  },
  {
   "cell_type": "code",
   "execution_count": null,
   "metadata": {
    "colab": {},
    "colab_type": "code",
    "id": "qevYi5Gqgi8Q"
   },
   "outputs": [],
   "source": [
    "def encode_labels(labels):\n",
    "    labels = [int(i) - 1 for i in labels]\n",
    "    multi_hot = [0 for i in range(12)]\n",
    "    for i in range(12):\n",
    "        if i in labels:\n",
    "            multi_hot[i] = 1\n",
    "    return multi_hot"
   ]
  },
  {
   "cell_type": "code",
   "execution_count": null,
   "metadata": {
    "colab": {},
    "colab_type": "code",
    "id": "SzmV0aDxgg8I"
   },
   "outputs": [],
   "source": [
    "a = train[3][\"labels\"]\n",
    "for i in a:\n",
    "    if \"111\" in i:\n",
    "        i.remove(\"111\")\n",
    "        i.append(8)\n",
    "        i.append(11)\n",
    "    for j in range(len(i)):\n",
    "        if int(i[j]) in map_labels.keys():\n",
    "            i[j] = map_labels[int(i[j])]\n",
    "train[3][\"labels\"] = a"
   ]
  },
  {
   "cell_type": "code",
   "execution_count": null,
   "metadata": {
    "colab": {},
    "colab_type": "code",
    "id": "b5MpaF6Kgi8S"
   },
   "outputs": [],
   "source": [
    "for i in range(4):\n",
    "    train[i][\"labels\"] = pd.Series(map(lambda x: encode_labels(x), train[i][\"labels\"]))"
   ]
  },
  {
   "cell_type": "code",
   "execution_count": null,
   "metadata": {
    "colab": {},
    "colab_type": "code",
    "id": "FCXPNiKngi8V"
   },
   "outputs": [],
   "source": [
    "for i in range(4):\n",
    "    train[i][\"text\"] = train[i][\"entry_translated\"].apply(lambda x: x.replace(\"\\n\", \" \"))"
   ]
  },
  {
   "cell_type": "code",
   "execution_count": null,
   "metadata": {
    "colab": {},
    "colab_type": "code",
    "id": "jBw-r8cvgi8X"
   },
   "outputs": [],
   "source": [
    "train_all = pd.concat([train[i] for i in range(4)]).reset_index(drop=True)"
   ]
  },
  {
   "cell_type": "code",
   "execution_count": null,
   "metadata": {
    "colab": {
     "base_uri": "https://localhost:8080/",
     "height": 63
    },
    "colab_type": "code",
    "id": "jeV0P8DOgi8Z",
    "outputId": "1590ce74-7015-434b-f457-15da8a875bb8"
   },
   "outputs": [],
   "source": [
    "from simpletransformers.classification import MultiLabelClassificationModel\n",
    "model = MultiLabelClassificationModel('roberta', 'roberta-base', num_labels=12, args={'output_dir': 'output-1234/', 'cache_dir': 'cache-1234/', 'n_gpu': 1, 'train_batch_size':2, 'gradient_accumulation_steps':16, 'learning_rate': 3e-5, 'num_train_epochs': 3, 'max_seq_length': 512})"
   ]
  },
  {
   "cell_type": "code",
   "execution_count": null,
   "metadata": {
    "colab": {
     "base_uri": "https://localhost:8080/",
     "height": 85,
     "referenced_widgets": [
      "a5709d44c3a24c31ab58d58fff5326bf",
      "836f62d974f4443f96dad4b9f83c5717",
      "824ffc2855ba4d02a439395566fec274",
      "f5388a93bf954dc1b6966319fa66bdf2",
      "5cc21d2f88d048fa989d4f9ae7823f53"
     ]
    },
    "colab_type": "code",
    "id": "1aRoGoc5gi8b",
    "outputId": "cb803552-1e79-442d-fcdc-04846c095432"
   },
   "outputs": [],
   "source": [
    "model.train_model(train_all)"
   ]
  },
  {
   "cell_type": "code",
   "execution_count": null,
   "metadata": {
    "colab": {
     "base_uri": "https://localhost:8080/",
     "height": 68,
     "referenced_widgets": [
      "7f29e4abf5414a29aa6a05e515295256",
      "0a9773a23b3e498490dfa1d77bac5f6f"
     ]
    },
    "colab_type": "code",
    "id": "cIquN7Ovgi8d",
    "outputId": "0b8407da-86e3-4d63-fcbf-aa3390568cf3"
   },
   "outputs": [],
   "source": [
    "test_all = pd.concat([test[i] for i in range(4)]).reset_index(drop=True)\n",
    "to_predict = test_all[\"entry_translated\"].apply(lambda x: x.replace(\"\\n\", \" \")).tolist()\n",
    "preds, outputs = model.predict(to_predict)\n",
    "sub_df = pd.DataFrame(outputs, columns=[str(i) for i in range(1, 13)])\n",
    "sub_df[\"id\"] = test_all[\"id\"]\n",
    "sub_df.to_csv(\"sub_all_n.csv\")"
   ]
  },
  {
   "cell_type": "code",
   "execution_count": null,
   "metadata": {
    "colab": {},
    "colab_type": "code",
    "id": "feWET69i2Oir"
   },
   "outputs": [],
   "source": [
    "import numpy as np"
   ]
  },
  {
   "cell_type": "code",
   "execution_count": null,
   "metadata": {
    "colab": {},
    "colab_type": "code",
    "id": "bUoZB_3q2Hjd"
   },
   "outputs": [],
   "source": [
    "sub_arr = np.array(sub_df.drop('id', axis=1))\n",
    "preds = list(map(lambda x: np.argmax(x), sub_arr))\n",
    "pred_dict = {sub_df[\"id\"][i]: preds[i] for i in range(len(preds))}\n",
    "for i in pred_dict.keys():\n",
    "    pred_dict[i] += 1\n",
    "    if \"org4\" in i:\n",
    "        pred_dict[i] = reversemap_labels[pred_dict[i]]"
   ]
  },
  {
   "cell_type": "code",
   "execution_count": null,
   "metadata": {
    "colab": {},
    "colab_type": "code",
    "id": "5d9dD9G32o0A"
   },
   "outputs": [],
   "source": [
    "submission = pd.DataFrame()\n",
    "submission[\"id\"] = pd.Series(list(pred_dict.keys()))\n",
    "submission[\"predicted_label\"] = pd.Series(map(lambda x: pred_dict[x], submission[\"id\"]))"
   ]
  },
  {
   "cell_type": "code",
   "execution_count": null,
   "metadata": {
    "colab": {},
    "colab_type": "code",
    "id": "SqdUNWeP3tV8"
   },
   "outputs": [],
   "source": [
    "submission.to_csv(\"submission_all_n.csv\", index=False)"
   ]
  }
 ],
 "metadata": {
  "accelerator": "GPU",
  "colab": {
   "collapsed_sections": [],
   "name": "AMLD2020.ipynb",
   "provenance": []
  },
  "kernelspec": {
   "display_name": "Python 3",
   "language": "python",
   "name": "python3"
  },
  "language_info": {
   "codemirror_mode": {
    "name": "ipython",
    "version": 3
   },
   "file_extension": ".py",
   "mimetype": "text/x-python",
   "name": "python",
   "nbconvert_exporter": "python",
   "pygments_lexer": "ipython3",
   "version": "3.8.0"
  },
  "widgets": {
   "application/vnd.jupyter.widget-state+json": {
    "0a9773a23b3e498490dfa1d77bac5f6f": {
     "model_module": "@jupyter-widgets/controls",
     "model_name": "HBoxModel",
     "state": {
      "_dom_classes": [],
      "_model_module": "@jupyter-widgets/controls",
      "_model_module_version": "1.5.0",
      "_model_name": "HBoxModel",
      "_view_count": null,
      "_view_module": "@jupyter-widgets/controls",
      "_view_module_version": "1.5.0",
      "_view_name": "HBoxView",
      "box_style": "",
      "children": [
       "IPY_MODEL_eb40597acdc84d4fb11acbffbb0229ba",
       "IPY_MODEL_312c67d2b6214905af83ed7897e86c84"
      ],
      "layout": "IPY_MODEL_7858fa7c05f841f099472a03cf8c4639"
     }
    },
    "5cc21d2f88d048fa989d4f9ae7823f53": {
     "model_module": "@jupyter-widgets/controls",
     "model_name": "HBoxModel",
     "state": {
      "_dom_classes": [],
      "_model_module": "@jupyter-widgets/controls",
      "_model_module_version": "1.5.0",
      "_model_name": "HBoxModel",
      "_view_count": null,
      "_view_module": "@jupyter-widgets/controls",
      "_view_module_version": "1.5.0",
      "_view_name": "HBoxView",
      "box_style": "",
      "children": [
       "IPY_MODEL_321bc1bc04ae40a7afa95f848e61d55a",
       "IPY_MODEL_8bebbbe596f14a72b93ba0e77e130bfc"
      ],
      "layout": "IPY_MODEL_02f40d3d6879476e8e6717135795dd6b"
     }
    },
    "7f29e4abf5414a29aa6a05e515295256": {
     "model_module": "@jupyter-widgets/controls",
     "model_name": "HBoxModel",
     "state": {
      "_dom_classes": [],
      "_model_module": "@jupyter-widgets/controls",
      "_model_module_version": "1.5.0",
      "_model_name": "HBoxModel",
      "_view_count": null,
      "_view_module": "@jupyter-widgets/controls",
      "_view_module_version": "1.5.0",
      "_view_name": "HBoxView",
      "box_style": "",
      "children": [
       "IPY_MODEL_ce3ab118f6184805a72224f824976e08",
       "IPY_MODEL_05d9bc3733334c66b920243d868e3a82"
      ],
      "layout": "IPY_MODEL_471038b00da34a8bbbfa5418792d221d"
     }
    },
    "824ffc2855ba4d02a439395566fec274": {
     "model_module": "@jupyter-widgets/controls",
     "model_name": "HBoxModel",
     "state": {
      "_dom_classes": [],
      "_model_module": "@jupyter-widgets/controls",
      "_model_module_version": "1.5.0",
      "_model_name": "HBoxModel",
      "_view_count": null,
      "_view_module": "@jupyter-widgets/controls",
      "_view_module_version": "1.5.0",
      "_view_name": "HBoxView",
      "box_style": "",
      "children": [
       "IPY_MODEL_f70fd5c0498d4d3d9a2a2316a473c49b",
       "IPY_MODEL_bd0c7a5b7ddb42ab9cbe03de865126fb"
      ],
      "layout": "IPY_MODEL_f4c85c3628114e4798591b7914e1e8b0"
     }
    },
    "836f62d974f4443f96dad4b9f83c5717": {
     "model_module": "@jupyter-widgets/controls",
     "model_name": "HBoxModel",
     "state": {
      "_dom_classes": [],
      "_model_module": "@jupyter-widgets/controls",
      "_model_module_version": "1.5.0",
      "_model_name": "HBoxModel",
      "_view_count": null,
      "_view_module": "@jupyter-widgets/controls",
      "_view_module_version": "1.5.0",
      "_view_name": "HBoxView",
      "box_style": "",
      "children": [
       "IPY_MODEL_6be144a8221d48c6a2dddcfaafb73e49",
       "IPY_MODEL_c963b607330249cc96358f557dc99dd9"
      ],
      "layout": "IPY_MODEL_2989057f1f07419580b8a1201cf0470b"
     }
    },
    "a5709d44c3a24c31ab58d58fff5326bf": {
     "model_module": "@jupyter-widgets/controls",
     "model_name": "HBoxModel",
     "state": {
      "_dom_classes": [],
      "_model_module": "@jupyter-widgets/controls",
      "_model_module_version": "1.5.0",
      "_model_name": "HBoxModel",
      "_view_count": null,
      "_view_module": "@jupyter-widgets/controls",
      "_view_module_version": "1.5.0",
      "_view_name": "HBoxView",
      "box_style": "",
      "children": [
       "IPY_MODEL_a981f159955b4c44af13e71864a75177",
       "IPY_MODEL_9293b0542ae94300ba6d827a1bb22ace"
      ],
      "layout": "IPY_MODEL_88b16360eaef474abeeb5dd45aacf368"
     }
    },
    "f5388a93bf954dc1b6966319fa66bdf2": {
     "model_module": "@jupyter-widgets/controls",
     "model_name": "HBoxModel",
     "state": {
      "_dom_classes": [],
      "_model_module": "@jupyter-widgets/controls",
      "_model_module_version": "1.5.0",
      "_model_name": "HBoxModel",
      "_view_count": null,
      "_view_module": "@jupyter-widgets/controls",
      "_view_module_version": "1.5.0",
      "_view_name": "HBoxView",
      "box_style": "",
      "children": [
       "IPY_MODEL_e09e0e2b00264903a3dc8205dacda70a",
       "IPY_MODEL_090623ce5ed741ee8b7bb7cfd2fe03d8"
      ],
      "layout": "IPY_MODEL_d043852c3826463a9377542ffbc99f3a"
     }
    }
   }
  }
 },
 "nbformat": 4,
 "nbformat_minor": 4
}
